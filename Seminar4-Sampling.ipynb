{
 "cells": [
  {
   "cell_type": "code",
   "execution_count": 1,
   "metadata": {},
   "outputs": [],
   "source": [
    "import numpy as np\n",
    "import torch\n",
    "import torch.nn as nn\n",
    "import matplotlib.pyplot as plt\n",
    "from tqdm.notebook import trange\n",
    "from IPython.display import clear_output"
   ]
  },
  {
   "cell_type": "markdown",
   "metadata": {},
   "source": [
    "# Sampling from probability distributions\n",
    "\n",
    "$X$ --- random variable, p($X$) --- probability distribution.\n",
    "The goal is to sample $X$ from probability distribution p($X$)\n",
    "\n",
    "## Bernoulli sampling\n",
    "\n",
    "$X\\in \\{ 0,1 \\}$ , p --- probability$(X=1)$.\n",
    "The goal is to sample zeros and ones from the discrete probability distribution {1-p,p}\n",
    "\n",
    "\n",
    "### Recipe\n",
    "\n",
    "- Create a tensor (probs_uniform) of uniformly distributed (torch.rand) between zero and one random numbers \n",
    "- if probs_uniform$[i]$ $<$  p, then X = 1, otherwise X = 0"
   ]
  },
  {
   "cell_type": "code",
   "execution_count": 2,
   "metadata": {},
   "outputs": [
    {
     "data": {
      "text/plain": [
       "tensor(68)"
      ]
     },
     "execution_count": 2,
     "metadata": {},
     "output_type": "execute_result"
    }
   ],
   "source": [
    "# Write your code here\n",
    "prob = 0.7\n",
    "N_samples = 100 \n",
    "outcomes = torch.rand(N_samples)<prob\n",
    "outcomes.sum()"
   ]
  },
  {
   "cell_type": "markdown",
   "metadata": {},
   "source": [
    "- Calculate variance of Bernoulli distribution analytically and compare it with numerical estimations"
   ]
  },
  {
   "cell_type": "code",
   "execution_count": 3,
   "metadata": {},
   "outputs": [
    {
     "data": {
      "text/plain": [
       "[<matplotlib.lines.Line2D at 0x7fe2cc0198b0>]"
      ]
     },
     "execution_count": 3,
     "metadata": {},
     "output_type": "execute_result"
    },
    {
     "data": {
      "image/png": "[encoded data removed]",
      "text/plain": [
       "<Figure size 432x288 with 1 Axes>"
      ]
     },
     "metadata": {
      "needs_background": "light"
     },
     "output_type": "display_data"
    }
   ],
   "source": [
    "# Write your code here \n",
    "N_times = 10000\n",
    "std = []\n",
    "for i in range(100):\n",
    "    rnd = torch.rand(N_times,i)\n",
    "    outcomes = (rnd<prob).sum(1)\n",
    "    std.append(outcomes.type(torch.float32).std())\n",
    "plt.plot(std)    \n",
    "\n",
    "\n"
   ]
  },
  {
   "cell_type": "markdown",
   "metadata": {},
   "source": [
    "## Sampling from multinomial distribution \n",
    "\n",
    "Now, we know how to flip a coin on a laptop (aka Bernoulli sampling). \n",
    "Next goal is to sample events from a discrete distribution of any dimension. "
   ]
  },
  {
   "cell_type": "code",
   "execution_count": 4,
   "metadata": {},
   "outputs": [
    {
     "data": {
      "image/png": "[encoded data removed]",
      "text/plain": [
       "<Figure size 432x288 with 1 Axes>"
      ]
     },
     "metadata": {
      "needs_background": "light"
     },
     "output_type": "display_data"
    }
   ],
   "source": [
    "# Here the distribution is generated\n",
    "dim = 5\n",
    "probs = torch.rand(dim)\n",
    "probs = torch.sort(probs)[0]\n",
    "probs /= probs.sum()\n",
    "\n",
    "plt.bar(np.arange(dim),probs)\n",
    "plt.show()"
   ]
  },
  {
   "cell_type": "markdown",
   "metadata": {},
   "source": [
    "## Multinomial sampling\n",
    "\n",
    "- $X\\in \\{ 0,1, ... , dim-1 \\}$ , probs --- [probability$(X=0)$,probability$(X=1)$, ... , probability$(X=dim-1)$].\n",
    "- The goal is to sample  $\\{ 0,1, ... , dim-1 \\}$ from the discrete probability distribution defined by tensor \"probs\"\n",
    "\n",
    "### Hint\n",
    "- Use the same logic as in the Bernoulli sampling\n",
    "- Instead of one coin, use multiple coins, each coin corresponds to its own probability in \"probs\""
   ]
  },
  {
   "cell_type": "code",
   "execution_count": 5,
   "metadata": {},
   "outputs": [
    {
     "ename": "SyntaxError",
     "evalue": "invalid syntax (<ipython-input-5-2625d53ae1e1>, line 2)",
     "output_type": "error",
     "traceback": [
      "\u001b[0;36m  File \u001b[0;32m\"<ipython-input-5-2625d53ae1e1>\"\u001b[0;36m, line \u001b[0;32m2\u001b[0m\n\u001b[0;31m    N_samples =\u001b[0m\n\u001b[0m                ^\u001b[0m\n\u001b[0;31mSyntaxError\u001b[0m\u001b[0;31m:\u001b[0m invalid syntax\n"
     ]
    }
   ],
   "source": [
    "# Write your code here\n",
    "N_samples = \n",
    "probs_sampled = "
   ]
  },
  {
   "cell_type": "code",
   "execution_count": 6,
   "metadata": {},
   "outputs": [
    {
     "ename": "NameError",
     "evalue": "name 'probs_sampled' is not defined",
     "output_type": "error",
     "traceback": [
      "\u001b[0;31m---------------------------------------------------------------------------\u001b[0m",
      "\u001b[0;31mNameError\u001b[0m                                 Traceback (most recent call last)",
      "\u001b[0;32m<ipython-input-6-cfe003160761>\u001b[0m in \u001b[0;36m<module>\u001b[0;34m\u001b[0m\n\u001b[1;32m      1\u001b[0m \u001b[0mplt\u001b[0m\u001b[0;34m.\u001b[0m\u001b[0mbar\u001b[0m\u001b[0;34m(\u001b[0m\u001b[0mnp\u001b[0m\u001b[0;34m.\u001b[0m\u001b[0marange\u001b[0m\u001b[0;34m(\u001b[0m\u001b[0mdim\u001b[0m\u001b[0;34m)\u001b[0m\u001b[0;34m,\u001b[0m\u001b[0mprobs\u001b[0m\u001b[0;34m,\u001b[0m\u001b[0mlabel\u001b[0m\u001b[0;34m=\u001b[0m\u001b[0;34m'Ideal'\u001b[0m\u001b[0;34m)\u001b[0m\u001b[0;34m\u001b[0m\u001b[0;34m\u001b[0m\u001b[0m\n\u001b[0;32m----> 2\u001b[0;31m \u001b[0mplt\u001b[0m\u001b[0;34m.\u001b[0m\u001b[0mbar\u001b[0m\u001b[0;34m(\u001b[0m\u001b[0mnp\u001b[0m\u001b[0;34m.\u001b[0m\u001b[0marange\u001b[0m\u001b[0;34m(\u001b[0m\u001b[0mdim\u001b[0m\u001b[0;34m)\u001b[0m\u001b[0;34m,\u001b[0m\u001b[0mprobs_sampled\u001b[0m\u001b[0;34m,\u001b[0m\u001b[0mlabel\u001b[0m\u001b[0;34m=\u001b[0m\u001b[0;34m'Sampled'\u001b[0m\u001b[0;34m,\u001b[0m\u001b[0malpha\u001b[0m \u001b[0;34m=\u001b[0m \u001b[0;36m0.5\u001b[0m\u001b[0;34m)\u001b[0m\u001b[0;34m\u001b[0m\u001b[0;34m\u001b[0m\u001b[0m\n\u001b[0m\u001b[1;32m      3\u001b[0m \u001b[0mplt\u001b[0m\u001b[0;34m.\u001b[0m\u001b[0mlegend\u001b[0m\u001b[0;34m(\u001b[0m\u001b[0;34m)\u001b[0m\u001b[0;34m\u001b[0m\u001b[0;34m\u001b[0m\u001b[0m\n\u001b[1;32m      4\u001b[0m \u001b[0mplt\u001b[0m\u001b[0;34m.\u001b[0m\u001b[0mshow\u001b[0m\u001b[0;34m(\u001b[0m\u001b[0;34m)\u001b[0m\u001b[0;34m\u001b[0m\u001b[0;34m\u001b[0m\u001b[0m\n",
      "\u001b[0;31mNameError\u001b[0m: name 'probs_sampled' is not defined"
     ]
    },
    {
     "data": {
      "image/png": "[encoded data removed]",
      "text/plain": [
       "<Figure size 432x288 with 1 Axes>"
      ]
     },
     "metadata": {
      "needs_background": "light"
     },
     "output_type": "display_data"
    }
   ],
   "source": [
    "plt.bar(np.arange(dim),probs,label='Ideal')\n",
    "plt.bar(np.arange(dim),probs_sampled,label='Sampled',alpha = 0.5)\n",
    "plt.legend()\n",
    "plt.show()"
   ]
  },
  {
   "cell_type": "code",
   "execution_count": null,
   "metadata": {},
   "outputs": [],
   "source": []
  },
  {
   "cell_type": "code",
   "execution_count": null,
   "metadata": {},
   "outputs": [],
   "source": []
  },
  {
   "cell_type": "markdown",
   "metadata": {},
   "source": [
    "# Metropolis algorithm \n",
    "## What if the dimension of the probability space is exponentially big, but, you still want to sample the most probable outcomes?\n",
    "\n",
    "## Toy model\n",
    "- There are $2^{dim}$ probabilities  \n",
    "- Neural network (NN) is a black box, which encodes probability distribution in its parameters\n",
    "- The input layer of NN is a bit string, the output is the corresponding log of unnormalized probability "
   ]
  },
  {
   "cell_type": "code",
   "execution_count": 7,
   "metadata": {},
   "outputs": [
    {
     "data": {
      "image/png": "[encoded data removed]",
      "text/plain": [
       "<Figure size 432x288 with 1 Axes>"
      ]
     },
     "metadata": {
      "needs_background": "light"
     },
     "output_type": "display_data"
    }
   ],
   "source": [
    "# Here the probability distribution (probs_theory) is generated\n",
    "# dim is the number of bits\n",
    "dim = 10\n",
    "# N is the number of nonzero probabilities among 2^dim\n",
    "N = 20\n",
    "probs_nonzero = torch.rand(N)\n",
    "probs_nonzero /= probs_nonzero.sum()\n",
    "inds = torch.randint(0,2**dim,(N,))\n",
    "probs_theory = torch.zeros(2**dim)\n",
    "probs_theory[inds] = probs_nonzero\n",
    "plt.bar(torch.arange(2**dim),probs_theory,width = 10)\n",
    "plt.title('Ideal probability')\n",
    "plt.xlabel('element')\n",
    "plt.ylabel('probability')\n",
    "plt.show()"
   ]
  },
  {
   "cell_type": "markdown",
   "metadata": {},
   "source": [
    "- Class Net defines neural network\n",
    "- The input layer is bit string, the output is a corresponding log probability"
   ]
  },
  {
   "cell_type": "code",
   "execution_count": 8,
   "metadata": {},
   "outputs": [],
   "source": [
    "class Net(nn.Module):\n",
    "    \n",
    "    lr = 0.001\n",
    "    N_epochs = 500\n",
    "     \n",
    "    def __init__(self,dim,probs_theory): \n",
    "        super(Net,self).__init__()\n",
    "        self.dim = dim\n",
    "        self.probs_theory = probs_theory\n",
    "        nhid = 300\n",
    "        \n",
    "        self.linear0 = nn.Linear(dim,nhid)\n",
    "        self.linear1 = nn.Linear(nhid,nhid)\n",
    "        self.linear2 = nn.Linear(nhid,1)\n",
    "\n",
    "        self.relu = nn.ReLU()\n",
    "        self.tanh = nn.Tanh()\n",
    "        self.sigmoid = nn.Sigmoid()\n",
    "        \n",
    "        self.bn = nn.BatchNorm1d(nhid)\n",
    "        \n",
    "    def int10tobase_torch(self,num,base=2):\n",
    "        c = num\n",
    "        max_digit = self.dim-1\n",
    "        res = torch.zeros((max_digit+1,num.shape[0]),dtype = torch.long)\n",
    "        i = max_digit\n",
    "        while(torch.sum(c)!=0):\n",
    "            res[i,:] = torch.remainder(c,base)\n",
    "            c = (c/base).type(torch.long)\n",
    "            i-=1\n",
    "        return res.t()\n",
    "        \n",
    "    def forward(self,x):\n",
    "        x = self.linear0(x)\n",
    "        x = self.relu(x)\n",
    "        x = self.linear1(x)\n",
    "        x = self.relu(x)\n",
    "        x = self.linear2(x)\n",
    "        return x\n",
    "    \n",
    "    def prob_dist(self,x_in):\n",
    "        logprobs = self(x_in)[:,0]\n",
    "        logZ = torch.logsumexp(logprobs,dim=0)\n",
    "        return logprobs,logZ\n",
    "    \n",
    "    def negloglik(self,inds,eps=1e-8):\n",
    "        x_in = self.int10tobase_torch(inds).type(torch.float32)\n",
    "        logprobs,logZ = self.prob_dist(x_in)\n",
    "        return -(probs_theory[inds]*logprobs).sum() + logZ\n",
    "    \n",
    "    def evolution(self):\n",
    "        optimizer = torch.optim.Adam(self.parameters(), lr=self.lr, betas=(0.9, 0.999))\n",
    "        loss_ar = []\n",
    "        count = 0\n",
    "        inds = torch.arange(2**dim)\n",
    "        for e in range(self.N_epochs):\n",
    "            optimizer.zero_grad()\n",
    "            loss_cur = self.negloglik(inds)\n",
    "            loss_cur.backward()\n",
    "            optimizer.step()\n",
    "            count += 1\n",
    "            loss_ar.append(loss_cur.detach().numpy())\n",
    "            if (count==10):\n",
    "                clear_output(True)\n",
    "                plt.plot(loss_ar)\n",
    "                plt.show()\n",
    "                count = 0\n",
    "        return loss_ar"
   ]
  },
  {
   "cell_type": "markdown",
   "metadata": {},
   "source": [
    "Your goal is to train neural network"
   ]
  },
  {
   "cell_type": "code",
   "execution_count": 9,
   "metadata": {},
   "outputs": [
    {
     "data": {
      "image/png": "[encoded data removed]",
      "text/plain": [
       "<Figure size 432x288 with 1 Axes>"
      ]
     },
     "metadata": {
      "needs_background": "light"
     },
     "output_type": "display_data"
    }
   ],
   "source": [
    "# Write your code here\n",
    "net = Net(dim,probs_theory)\n",
    "loss_ar = net.evolution()"
   ]
  },
  {
   "cell_type": "code",
   "execution_count": 10,
   "metadata": {},
   "outputs": [],
   "source": [
    "# Make bar plots of ideal and network probabilities \n",
    "# Write your code here\n",
    "outcomes_all = net.int10tobase_torch(torch.arange(2 ** dim)).type(torch.float32)\n",
    "logprobs,logZ = net.prob_dist(outcomes_all)"
   ]
  },
  {
   "cell_type": "code",
   "execution_count": 11,
   "metadata": {},
   "outputs": [],
   "source": [
    "probs_np = torch.exp(logprobs - logZ).detach()"
   ]
  },
  {
   "cell_type": "code",
   "execution_count": 12,
   "metadata": {},
   "outputs": [
    {
     "data": {
      "text/plain": [
       "[<matplotlib.lines.Line2D at 0x7fe2cd738310>]"
      ]
     },
     "execution_count": 12,
     "metadata": {},
     "output_type": "execute_result"
    },
    {
     "data": {
      "image/png": "[encoded data removed]",
      "text/plain": [
       "<Figure size 432x288 with 1 Axes>"
      ]
     },
     "metadata": {
      "needs_background": "light"
     },
     "output_type": "display_data"
    }
   ],
   "source": [
    "plt.plot(probs_np, \".\", color = 'red')\n",
    "plt.plot(probs_theory, \".\", color = 'blue')"
   ]
  },
  {
   "cell_type": "markdown",
   "metadata": {},
   "source": [
    "# Metropolis algorithm (for discrete distributions)\n",
    "\n",
    "## Recipe\n",
    "1. Create an initial batch (set) of bit strings, $\\{x_{old}\\}$\n",
    "2. Generate new batch from old one by flipping random bit in each configuration, $\\{x_{new}\\}$ \n",
    "3. Calculate log probabilities  $\\log p_{new}$ and $\\log p_{old}$ using trained NN\n",
    "4. Calculate set of ratios $r = \\frac{p_{new}}{p_{old}}$\n",
    "4. If $r>1$, then accept $x_{new}$\n",
    "5. If $r<1$, play Bernoully game to accept $x_{new}$ or keep $x_{old}$\n",
    "6. Repeat actions from 2 to 5"
   ]
  },
  {
   "cell_type": "code",
   "execution_count": 31,
   "metadata": {},
   "outputs": [
    {
     "data": {
      "application/vnd.jupyter.widget-view+json": {
       "model_id": "89d920e6e578439986f4a58956faa2a3",
       "version_major": 2,
       "version_minor": 0
      },
      "text/plain": [
       "HBox(children=(HTML(value=''), FloatProgress(value=0.0, max=30.0), HTML(value='')))"
      ]
     },
     "metadata": {},
     "output_type": "display_data"
    },
    {
     "name": "stdout",
     "output_type": "stream",
     "text": [
      "\n"
     ]
    }
   ],
   "source": [
    "N_samples = 200\n",
    "Nsteps = 30\n",
    "dims = torch.arange(N_samples)\n",
    "# Write your code here\n",
    "outcomes_old = torch.randint(0,2,(N_samples,dim)).type(torch.float32)\n",
    "for _ in trange(Nsteps):\n",
    "    inds_flip = torch.randint(0,dim,(N_samples,))\n",
    "    outcomes_new = torch.clone(outcomes_old)\n",
    "    outcomes_new[torch.arange(N_samples),inds_flip] = 1 - outcomes_old[torch.arange(N_samples),inds_flip]\n",
    "\n",
    "    logprob_old, logZ_old = net.prob_dist(outcomes_old)\n",
    "    logprob_new, logZ_new = net.prob_dist(outcomes_new)\n",
    "    r = torch.exp(logprob_new - logprob_old)\n",
    "\n",
    "    inds_accept = torch.nonzero((torch.rand(N_samples) < r))[:,0]\n",
    "    outcomes_old[inds_accept,:] = outcomes_new[inds_accept,:]"
   ]
  },
  {
   "cell_type": "code",
   "execution_count": null,
   "metadata": {},
   "outputs": [],
   "source": []
  },
  {
   "cell_type": "code",
   "execution_count": null,
   "metadata": {},
   "outputs": [],
   "source": []
  },
  {
   "cell_type": "markdown",
   "metadata": {},
   "source": [
    "- Choose unique bit string among sampled via Metropolis\n",
    "- Compare them with the ideal set\n",
    "- Calculate probabilities for this unique set of bit strings"
   ]
  },
  {
   "cell_type": "code",
   "execution_count": 32,
   "metadata": {},
   "outputs": [
    {
     "name": "stdout",
     "output_type": "stream",
     "text": [
      "sampled unique outcomes  tensor([ 62, 178, 228, 230, 350, 438, 452, 468, 473, 476, 500, 502, 505, 510,\n",
      "        514, 515, 538, 572, 574, 611, 699, 715, 718, 723, 727, 739, 792, 798,\n",
      "        834, 835, 862, 966, 982])\n",
      "ideal outcomes tensor([ 62, 178, 228, 350, 438, 468, 502, 505, 514, 538, 572, 611, 699, 715,\n",
      "        718, 723, 727, 792, 834, 835])\n"
     ]
    }
   ],
   "source": [
    "# Write your code here\n",
    "dims = torch.arange(dim-1,-1,-1,dtype=torch.float32)\n",
    "outcomes_unique = torch.unique(outcomes_old, dim=0).type(torch.float32)\n",
    "logprobs, logZ = net.prob_dist(outcomes_unique)\n",
    "probs_net = torch.exp(logprobs - logZ).detach().numpy()\n",
    "inds_unique = outcomes_unique.type(torch.float32)@(2**dims)\n",
    "print('sampled unique outcomes ',inds_unique.type(torch.long))\n",
    "print('ideal outcomes',inds.sort()[0])"
   ]
  },
  {
   "cell_type": "code",
   "execution_count": 33,
   "metadata": {},
   "outputs": [
    {
     "data": {
      "image/png": "[encoded data removed]",
      "text/plain": [
       "<Figure size 432x288 with 1 Axes>"
      ]
     },
     "metadata": {
      "needs_background": "light"
     },
     "output_type": "display_data"
    }
   ],
   "source": [
    "plt.plot(inds_unique,probs_net,'.',color = 'blue',label = 'NN')\n",
    "plt.plot(probs_theory, \".\", color = 'red',label='Theory')\n",
    "plt.legend()\n",
    "plt.show()"
   ]
  },
  {
   "cell_type": "code",
   "execution_count": null,
   "metadata": {},
   "outputs": [],
   "source": []
  },
  {
   "cell_type": "code",
   "execution_count": null,
   "metadata": {},
   "outputs": [],
   "source": []
  }
 ],
 "metadata": {
  "kernelspec": {
   "display_name": "Python 3",
   "language": "python",
   "name": "python3"
  },
  "language_info": {
   "codemirror_mode": {
    "name": "ipython",
    "version": 3
   },
   "file_extension": ".py",
   "mimetype": "text/x-python",
   "name": "python",
   "nbconvert_exporter": "python",
   "pygments_lexer": "ipython3",
   "version": "3.8.5"
  }
 },
 "nbformat": 4,
 "nbformat_minor": 4
}
